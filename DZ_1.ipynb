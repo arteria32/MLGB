{
  "nbformat": 4,
  "nbformat_minor": 0,
  "metadata": {
    "colab": {
      "name": "DZ_1.ipynb",
      "provenance": [],
      "collapsed_sections": [],
      "include_colab_link": true
    },
    "kernelspec": {
      "display_name": "Python 3",
      "language": "python",
      "name": "python3"
    },
    "language_info": {
      "codemirror_mode": {
        "name": "ipython",
        "version": 3
      },
      "file_extension": ".py",
      "mimetype": "text/x-python",
      "name": "python",
      "nbconvert_exporter": "python",
      "pygments_lexer": "ipython3",
      "version": "3.7.3"
    }
  },
  "cells": [
    {
      "cell_type": "markdown",
      "metadata": {
        "id": "view-in-github",
        "colab_type": "text"
      },
      "source": [
        "<a href=\"https://colab.research.google.com/github/arteria32/MLGB/blob/master/DZ_1.ipynb\" target=\"_parent\"><img src=\"https://colab.research.google.com/assets/colab-badge.svg\" alt=\"Open In Colab\"/></a>"
      ]
    },
    {
      "cell_type": "markdown",
      "metadata": {
        "id": "9WvY9FPiNYlk",
        "colab_type": "text"
      },
      "source": [
        "## Урок 1. Алгоритм линейной регрессии. Градиентный спуск"
      ]
    },
    {
      "cell_type": "code",
      "metadata": {
        "colab_type": "code",
        "id": "ak8b3KV45kVW",
        "colab": {}
      },
      "source": [
        "import numpy as np\n",
        "import matplotlib.pyplot as plt"
      ],
      "execution_count": null,
      "outputs": []
    },
    {
      "cell_type": "markdown",
      "metadata": {
        "id": "rhga8qI0NYlo",
        "colab_type": "text"
      },
      "source": [
        "__Задача:__ предсказание баллов ЕГЭ ученика в зависимости от кол-ва лет стажа его репетитора"
      ]
    },
    {
      "cell_type": "code",
      "metadata": {
        "colab_type": "code",
        "id": "i77tZbAd5plB",
        "colab": {
          "base_uri": "https://localhost:8080/",
          "height": 54
        },
        "outputId": "557c8981-a8cf-445e-f615-50472a0c2563"
      },
      "source": [
        "X = np.array([[1, 1, 1, 1, 1, 1, 1, 1, 1, 1],\n",
        "              [1, 1, 2, 5, 3, 0, 5, 10, 1, 2]])\n",
        "X"
      ],
      "execution_count": null,
      "outputs": [
        {
          "output_type": "execute_result",
          "data": {
            "text/plain": [
              "array([[ 1,  1,  1,  1,  1,  1,  1,  1,  1,  1],\n",
              "       [ 1,  1,  2,  5,  3,  0,  5, 10,  1,  2]])"
            ]
          },
          "metadata": {
            "tags": []
          },
          "execution_count": 424
        }
      ]
    },
    {
      "cell_type": "code",
      "metadata": {
        "id": "l_6JHz5KNYls",
        "colab_type": "code",
        "colab": {
          "base_uri": "https://localhost:8080/",
          "height": 199
        },
        "outputId": "900b8c4b-c8ba-4c7e-a9d2-044784bc436f"
      },
      "source": [
        "X.T"
      ],
      "execution_count": null,
      "outputs": [
        {
          "output_type": "execute_result",
          "data": {
            "text/plain": [
              "array([[ 1,  1],\n",
              "       [ 1,  1],\n",
              "       [ 1,  2],\n",
              "       [ 1,  5],\n",
              "       [ 1,  3],\n",
              "       [ 1,  0],\n",
              "       [ 1,  5],\n",
              "       [ 1, 10],\n",
              "       [ 1,  1],\n",
              "       [ 1,  2]])"
            ]
          },
          "metadata": {
            "tags": []
          },
          "execution_count": 425
        }
      ]
    },
    {
      "cell_type": "code",
      "metadata": {
        "colab_type": "code",
        "id": "ejifaMBe6VaP",
        "colab": {
          "base_uri": "https://localhost:8080/",
          "height": 35
        },
        "outputId": "6acad73e-4382-4248-b58e-3035e5174f76"
      },
      "source": [
        "X.shape"
      ],
      "execution_count": null,
      "outputs": [
        {
          "output_type": "execute_result",
          "data": {
            "text/plain": [
              "(2, 10)"
            ]
          },
          "metadata": {
            "tags": []
          },
          "execution_count": 426
        }
      ]
    },
    {
      "cell_type": "code",
      "metadata": {
        "colab_type": "code",
        "id": "VsNrKi1Q6Wmh",
        "colab": {}
      },
      "source": [
        "y = [45, 55, 50, 55, 60, 35, 75, 80, 50, 60]"
      ],
      "execution_count": null,
      "outputs": []
    },
    {
      "cell_type": "code",
      "metadata": {
        "id": "SDNvUzd5NYly",
        "colab_type": "code",
        "colab": {
          "base_uri": "https://localhost:8080/",
          "height": 283
        },
        "outputId": "4505a53f-95c1-496c-c864-ebf43ced99a2"
      },
      "source": [
        "plt.scatter(X[1], y)"
      ],
      "execution_count": null,
      "outputs": [
        {
          "output_type": "execute_result",
          "data": {
            "text/plain": [
              "<matplotlib.collections.PathCollection at 0x7f95df445be0>"
            ]
          },
          "metadata": {
            "tags": []
          },
          "execution_count": 428
        },
        {
          "output_type": "display_data",
          "data": {
            "image/png": "[encoded data removed]",
            "text/plain": [
              "<Figure size 432x288 with 1 Axes>"
            ]
          },
          "metadata": {
            "tags": [],
            "needs_background": "light"
          }
        }
      ]
    },
    {
      "cell_type": "code",
      "metadata": {
        "id": "oCWyzyCQNYl2",
        "colab_type": "code",
        "colab": {
          "base_uri": "https://localhost:8080/",
          "height": 171
        },
        "outputId": "56cb4ef0-4fe6-4cd8-cde4-4b584a7213db"
      },
      "source": [
        "y_pred1 = n*X[0] + X[1]*m"
      ],
      "execution_count": null,
      "outputs": [
        {
          "output_type": "error",
          "ename": "NameError",
          "evalue": "ignored",
          "traceback": [
            "\u001b[0;31m---------------------------------------------------------------------------\u001b[0m",
            "\u001b[0;31mNameError\u001b[0m                                 Traceback (most recent call last)",
            "\u001b[0;32m<ipython-input-429-6a016a957a4e>\u001b[0m in \u001b[0;36m<module>\u001b[0;34m()\u001b[0m\n\u001b[0;32m----> 1\u001b[0;31m \u001b[0my_pred1\u001b[0m \u001b[0;34m=\u001b[0m \u001b[0mn\u001b[0m\u001b[0;34m*\u001b[0m\u001b[0mX\u001b[0m\u001b[0;34m[\u001b[0m\u001b[0;36m0\u001b[0m\u001b[0;34m]\u001b[0m \u001b[0;34m+\u001b[0m \u001b[0mX\u001b[0m\u001b[0;34m[\u001b[0m\u001b[0;36m1\u001b[0m\u001b[0;34m]\u001b[0m\u001b[0;34m*\u001b[0m\u001b[0mm\u001b[0m\u001b[0;34m\u001b[0m\u001b[0;34m\u001b[0m\u001b[0m\n\u001b[0m",
            "\u001b[0;31mNameError\u001b[0m: name 'm' is not defined"
          ]
        }
      ]
    },
    {
      "cell_type": "code",
      "metadata": {
        "id": "oqEinU7mNYl4",
        "colab_type": "code",
        "colab": {}
      },
      "source": [
        "plt.scatter(X[1], y)\n",
        "plt.plot(X[1], y_pred1, label='1')\n",
        "plt.legend()\n",
        "plt.show()"
      ],
      "execution_count": null,
      "outputs": []
    },
    {
      "cell_type": "markdown",
      "metadata": {
        "id": "Yyu-4OWbNYl6",
        "colab_type": "text"
      },
      "source": [
        "Уравнение прямой: $y = a*x + b$"
      ]
    },
    {
      "cell_type": "code",
      "metadata": {
        "colab_type": "code",
        "id": "NntLxvtU7CbH",
        "colab": {}
      },
      "source": [
        "y_pred1 = 35 * np.ones(10) + X[1]*5\n",
        "y_pred2 = 40 * np.ones(10) + X[1]*7.5"
      ],
      "execution_count": null,
      "outputs": []
    },
    {
      "cell_type": "code",
      "metadata": {
        "colab_type": "code",
        "id": "OTikrodr6n-i",
        "colab": {}
      },
      "source": [
        "plt.scatter(X[1], y)\n",
        "plt.plot(X[1], y_pred1, label='1')\n",
        "plt.plot(X[1], y_pred2, label='2')\n",
        "plt.legend()\n",
        "plt.show()"
      ],
      "execution_count": null,
      "outputs": []
    },
    {
      "cell_type": "markdown",
      "metadata": {
        "id": "DSZwP6MvNYl-",
        "colab_type": "text"
      },
      "source": [
        "Простая ошибка"
      ]
    },
    {
      "cell_type": "code",
      "metadata": {
        "colab_type": "code",
        "id": "zbsqjAxH9WqI",
        "colab": {}
      },
      "source": [
        "err1 = np.sum(y - y_pred1)\n",
        "err2 = np.sum(y - y_pred2)\n",
        "err1, err2"
      ],
      "execution_count": null,
      "outputs": []
    },
    {
      "cell_type": "markdown",
      "metadata": {
        "id": "OfzinqQUNYmC",
        "colab_type": "text"
      },
      "source": [
        "MAE (Mean Absolute Error)"
      ]
    },
    {
      "cell_type": "code",
      "metadata": {
        "colab_type": "code",
        "id": "vUqCthPf9eYI",
        "colab": {}
      },
      "source": [
        "mae_1 = np.sum(np.abs(y - y_pred1)) / 10\n",
        "mae_2 = np.sum(np.abs(y - y_pred2)) / 10\n",
        "mae_1, mae_2"
      ],
      "execution_count": null,
      "outputs": []
    },
    {
      "cell_type": "markdown",
      "metadata": {
        "id": "OL_Os1zwNYmF",
        "colab_type": "text"
      },
      "source": [
        "MSE (Mean Squared Error)"
      ]
    },
    {
      "cell_type": "code",
      "metadata": {
        "colab_type": "code",
        "id": "XTn2bZIg_EBS",
        "colab": {}
      },
      "source": [
        "mse_1 = np.mean((y - y_pred1)**2)\n",
        "mse_2 = np.mean((y - y_pred2)**2)\n",
        "mse_1, mse_2"
      ],
      "execution_count": null,
      "outputs": []
    },
    {
      "cell_type": "markdown",
      "metadata": {
        "colab_type": "text",
        "id": "R4zHyZ2Da5HV"
      },
      "source": [
        "Метод наименьших квадратов (МНК)"
      ]
    },
    {
      "cell_type": "code",
      "metadata": {
        "colab_type": "code",
        "id": "GEeiext0BR1m",
        "colab": {}
      },
      "source": [
        "X.shape"
      ],
      "execution_count": null,
      "outputs": []
    },
    {
      "cell_type": "code",
      "metadata": {
        "colab_type": "code",
        "id": "j1BN1FZHBVo8",
        "colab": {}
      },
      "source": [
        "X.T.shape"
      ],
      "execution_count": null,
      "outputs": []
    },
    {
      "cell_type": "code",
      "metadata": {
        "id": "aL0aj7ACNYmM",
        "colab_type": "code",
        "colab": {}
      },
      "source": [
        "all(X @ y == np.dot(X,y)) #X.dot(y)"
      ],
      "execution_count": null,
      "outputs": []
    },
    {
      "cell_type": "code",
      "metadata": {
        "colab_type": "code",
        "id": "mnyZzkaDBegD",
        "colab": {}
      },
      "source": [
        "W = np.linalg.inv(np.dot(X, X.T)) @ X @ y\n",
        "W"
      ],
      "execution_count": null,
      "outputs": []
    },
    {
      "cell_type": "code",
      "metadata": {
        "id": "-AjI0l9DNYmQ",
        "colab_type": "code",
        "colab": {}
      },
      "source": [
        "y_pred3 = W[0] * X[0] + W[1] * X[1]"
      ],
      "execution_count": null,
      "outputs": []
    },
    {
      "cell_type": "code",
      "metadata": {
        "colab_type": "code",
        "id": "Lyg-J3H7Bnv5",
        "colab": {}
      },
      "source": [
        "plt.scatter(X[1], y)\n",
        "plt.plot(X[1], y_pred1, label='1 - manual')\n",
        "plt.plot(X[1], y_pred2, label='2 - manual')\n",
        "plt.plot(X[1], y_pred3, label='3 - analytical solution')\n",
        "plt.legend()\n",
        "plt.show()"
      ],
      "execution_count": null,
      "outputs": []
    },
    {
      "cell_type": "code",
      "metadata": {
        "colab_type": "code",
        "id": "JTSC2cFnCd8T",
        "colab": {}
      },
      "source": [
        "def calc_mae(y, y_pred):\n",
        "    err = np.mean(np.abs(y - y_pred))\n",
        "    return err\n",
        "\n",
        "def calc_mse(y, y_pred):\n",
        "    err = np.mean((y - y_pred)**2) # <=> 1/n * np.sum((y_pred - y)**2)\n",
        "    return err"
      ],
      "execution_count": null,
      "outputs": []
    },
    {
      "cell_type": "code",
      "metadata": {
        "colab_type": "code",
        "id": "MYSrwISJDGfS",
        "colab": {}
      },
      "source": [
        "calc_mae(y, y_pred1), calc_mse(y, y_pred1)"
      ],
      "execution_count": null,
      "outputs": []
    },
    {
      "cell_type": "code",
      "metadata": {
        "colab_type": "code",
        "id": "fs3gb428NYmY",
        "colab": {}
      },
      "source": [
        "calc_mae(y, y_pred2), calc_mse(y, y_pred2)"
      ],
      "execution_count": null,
      "outputs": []
    },
    {
      "cell_type": "code",
      "metadata": {
        "colab_type": "code",
        "id": "_WtO6lvhDmQ6",
        "colab": {}
      },
      "source": [
        "calc_mae(y, y_pred3), calc_mse(y, y_pred3)"
      ],
      "execution_count": null,
      "outputs": []
    },
    {
      "cell_type": "markdown",
      "metadata": {
        "colab_type": "text",
        "id": "JAOgIXLRa--g"
      },
      "source": [
        "Градиентный спуск"
      ]
    },
    {
      "cell_type": "code",
      "metadata": {
        "colab_type": "code",
        "id": "DNebwUP7Fd8F",
        "colab": {}
      },
      "source": [
        "n = 10\n",
        "Q = 1/n * np.sum((y_pred3 - y)**2) # функционал ошибки, y = X*w"
      ],
      "execution_count": null,
      "outputs": []
    },
    {
      "cell_type": "code",
      "metadata": {
        "colab_type": "code",
        "id": "5DKkvmkwHdOx",
        "colab": {}
      },
      "source": [
        "alpha = 1e-2 # величина шага\n",
        "g = alpha * (1/n * 2 * np.sum(X[0] * (W[0] * X[0] - y)))"
      ],
      "execution_count": null,
      "outputs": []
    },
    {
      "cell_type": "code",
      "metadata": {
        "colab_type": "code",
        "id": "ZVRCF5P2MYI6",
        "colab": {}
      },
      "source": [
        "W[0], W[0] - g"
      ],
      "execution_count": null,
      "outputs": []
    },
    {
      "cell_type": "markdown",
      "metadata": {
        "id": "Lia04Mf_NYmj",
        "colab_type": "text"
      },
      "source": [
        "### Д/З"
      ]
    },
    {
      "cell_type": "markdown",
      "metadata": {
        "colab_type": "text",
        "id": "huXrhXQsZTMt"
      },
      "source": [
        "1. Подберите скорость обучения (alpha) и количество итераций"
      ]
    },
    {
      "cell_type": "code",
      "metadata": {
        "colab_type": "code",
        "id": "IDB22MQKMYaJ",
        "colab": {
          "base_uri": "https://localhost:8080/",
          "height": 454
        },
        "outputId": "76fed263-15a2-463a-8b61-18ccf303294c"
      },
      "source": [
        "n = X.shape[1]\n",
        "alpha = 6e-2 \n",
        "W = np.array([1, 0.5])\n",
        "print(f'Number of objects = {n} \\\n",
        "       \\nLearning rate = {alpha} \\\n",
        "       \\nInitial weights = {W} \\n')\n",
        "\n",
        "for i in range(200):\n",
        "    y_pred = np.dot(W, X)\n",
        "    err = calc_mse(y, y_pred)\n",
        "    for k in range(W.shape[0]):\n",
        "        W[k] -= alpha * (1/n * 2 * np.sum(X[k] * (y_pred - y)))\n",
        "    if i % 10 == 0:\n",
        "        alpha /= 1.1\n",
        "        print(f'Iteration #{i}: W_new = {W}, MSE = {round(err,2)}')"
      ],
      "execution_count": null,
      "outputs": [
        {
          "output_type": "stream",
          "text": [
            "Number of objects = 10        \n",
            "Learning rate = 0.06        \n",
            "Initial weights = [1.  0.5] \n",
            "\n",
            "Iteration #0: W_new = [ 7.48 23.12], MSE = 3047.75\n",
            "Iteration #10: W_new = [22.07462743 13.05784976], MSE = 865.57\n",
            "Iteration #20: W_new = [30.0735307   6.78016869], MSE = 162.66\n",
            "Iteration #30: W_new = [35.1835249  5.6050078], MSE = 93.96\n",
            "Iteration #40: W_new = [38.3126292   5.03648529], MSE = 67.13\n",
            "Iteration #50: W_new = [40.28531327  4.67876916], MSE = 55.49\n",
            "Iteration #60: W_new = [41.57179614  4.44548532], MSE = 50.08\n",
            "Iteration #70: W_new = [42.43695677  4.28860178], MSE = 47.41\n",
            "Iteration #80: W_new = [43.03520501  4.18011869], MSE = 46.01\n",
            "Iteration #90: W_new = [43.45945814  4.10318693], MSE = 45.24\n",
            "Iteration #100: W_new = [43.76728298  4.04736764], MSE = 44.79\n",
            "Iteration #110: W_new = [43.99531262  4.00601798], MSE = 44.53\n",
            "Iteration #120: W_new = [44.1674401   3.97480531], MSE = 44.36\n",
            "Iteration #130: W_new = [44.29960683  3.95083891], MSE = 44.25\n",
            "Iteration #140: W_new = [44.40267405  3.93214926], MSE = 44.18\n",
            "Iteration #150: W_new = [44.48418639  3.91736826], MSE = 44.13\n",
            "Iteration #160: W_new = [44.54947947  3.90552836], MSE = 44.1\n",
            "Iteration #170: W_new = [44.60238987  3.89593388], MSE = 44.07\n",
            "Iteration #180: W_new = [44.64571919  3.88807677], MSE = 44.05\n",
            "Iteration #190: W_new = [44.68154283  3.88158071], MSE = 44.04\n"
          ],
          "name": "stdout"
        }
      ]
    },
    {
      "cell_type": "markdown",
      "metadata": {
        "id": "D1pfEQ6AEXTk",
        "colab_type": "text"
      },
      "source": [
        "Предварительно выставив кол-во итераций, подбором определяем alpha с наименьшим MSE, далее подобрал кол-во итераций до момента изменения MSE на 1/100. Ответ сверил с примером(MSE одного порядка)"
      ]
    },
    {
      "cell_type": "markdown",
      "metadata": {
        "colab_type": "text",
        "id": "5Qu1o4JhZYwI"
      },
      "source": [
        "*2. В этом коде мы избавляемся от итераций по весам, но тут есть ошибка, исправьте ее"
      ]
    },
    {
      "cell_type": "code",
      "metadata": {
        "colab_type": "code",
        "id": "WZZzDCQLY4pA",
        "colab": {
          "base_uri": "https://localhost:8080/",
          "height": 454
        },
        "outputId": "c2cc66f3-804b-430f-d6ce-3454a557629d"
      },
      "source": [
        "n = X.shape[1]\n",
        "alpha = 6e-2\n",
        "W = np.array([1, 0.5])\n",
        "print(f'Number of objects = {n} \\\n",
        "       \\nLearning rate = {alpha} \\\n",
        "       \\nInitial weights = {W} \\n')\n",
        "\n",
        "for i in range(200):\n",
        "    y_pred = np.dot(W, X)\n",
        "    err = calc_mse(y, y_pred)\n",
        "#     for k in range(W.shape[0]):\n",
        "#         W[k] -= alpha * (1/n * 2 * np.sum(X[k] * (y_pred - y)))\n",
        "    W -= alpha *np.dot(X , y_pred-y)/len(y)\n",
        "    W_pred = W\n",
        "    if i % 10 == 0:\n",
        "        print(f'Iteration #{i}: W_new = {W}, MSE = {round(err,2)}')"
      ],
      "execution_count": null,
      "outputs": [
        {
          "output_type": "stream",
          "text": [
            "Number of objects = 10        \n",
            "Learning rate = 0.06        \n",
            "Initial weights = [1.  0.5] \n",
            "\n",
            "Iteration #0: W_new = [ 4.24 11.81], MSE = 3047.75\n",
            "Iteration #10: W_new = [14.05036364  9.43607278], MSE = 522.79\n",
            "Iteration #20: W_new = [21.56325286  8.07372615], MSE = 318.89\n",
            "Iteration #30: W_new = [27.25609642  7.04141675], MSE = 201.82\n",
            "Iteration #40: W_new = [31.56981205  6.25919093], MSE = 134.61\n",
            "Iteration #50: W_new = [34.83850237  5.66646433], MSE = 96.01\n",
            "Iteration #60: W_new = [37.31533146  5.21732957], MSE = 73.85\n",
            "Iteration #70: W_new = [39.1921328   4.87700058], MSE = 61.13\n",
            "Iteration #80: W_new = [40.61426696  4.61911848], MSE = 53.82\n",
            "Iteration #90: W_new = [41.69187999  4.42370997], MSE = 49.62\n",
            "Iteration #100: W_new = [42.50843433  4.27564043], MSE = 47.22\n",
            "Iteration #110: W_new = [43.12717315  4.16344169], MSE = 45.83\n",
            "Iteration #120: W_new = [43.59601851  4.07842381], MSE = 45.04\n",
            "Iteration #130: W_new = [43.95128307  4.01400206], MSE = 44.58\n",
            "Iteration #140: W_new = [44.22048251  3.96518689], MSE = 44.32\n",
            "Iteration #150: W_new = [44.42446665  3.92819751], MSE = 44.17\n",
            "Iteration #160: W_new = [44.57903433  3.90016905], MSE = 44.09\n",
            "Iteration #170: W_new = [44.69615699  3.87893066], MSE = 44.04\n",
            "Iteration #180: W_new = [44.78490594  3.8628374 ], MSE = 44.01\n",
            "Iteration #190: W_new = [44.85215488  3.85064284], MSE = 43.99\n"
          ],
          "name": "stdout"
        }
      ]
    },
    {
      "cell_type": "code",
      "metadata": {
        "id": "Jj8NwhYuNYmo",
        "colab_type": "code",
        "colab": {}
      },
      "source": [
        "Изменить np.sum(составная часть умножения матриц) на np.dot(умножение матриц) и делим на len(y)-размер выборки"
      ],
      "execution_count": null,
      "outputs": []
    }
  ]
}