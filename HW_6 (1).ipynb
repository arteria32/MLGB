{
 "cells": [
  {
   "cell_type": "markdown",
   "metadata": {
    "colab_type": "text",
    "id": "G2wMw7vtsFIu"
   },
   "source": [
    "## Домашнее задание 6\n",
    "\n",
    "### Взаимосвязь величин. Параметрические и непараметрические показатели корреляции. \n",
    "\n",
    "### Корреляционный анализ"
   ]
  },
  {
   "cell_type": "markdown",
   "metadata": {
    "colab_type": "text",
    "id": "Rc3tqLLnsFIw"
   },
   "source": [
    "#### 1. Доходность двух активов за 8 периодов представлена в таблице:"
   ]
  },
  {
   "cell_type": "code",
   "execution_count": 72,
   "metadata": {},
   "outputs": [],
   "source": [
    "import pandas as pd\n",
    "import numpy as np"
   ]
  },
  {
   "cell_type": "code",
   "execution_count": 2,
   "metadata": {},
   "outputs": [],
   "source": [
    "tabledata = [[1, 12, 14],\n",
    "         [2, 10, 18],\n",
    "         [3, 10, 13],\n",
    "         [4, 8, 10],\n",
    "         [5, -5, 12],\n",
    "         [6, -3, -7],\n",
    "         [7, 10, -2],\n",
    "         [8, 7, 10]]"
   ]
  },
  {
   "cell_type": "code",
   "execution_count": 3,
   "metadata": {
    "scrolled": true
   },
   "outputs": [],
   "source": [
    "tab=pd.DataFrame(tabledata, columns=[\"Периоды\",\"Доходность актива Х\", \"Доходность актива Y\"])"
   ]
  },
  {
   "cell_type": "markdown",
   "metadata": {
    "colab_type": "text",
    "id": "Rc3tqLLnsFIw"
   },
   "source": [
    "#### Определить коэффициент корреляции доходностей активов X и У."
   ]
  },
  {
   "cell_type": "code",
   "execution_count": 4,
   "metadata": {},
   "outputs": [
    {
     "data": {
      "text/html": [
       "<div>\n",
       "<style scoped>\n",
       "    .dataframe tbody tr th:only-of-type {\n",
       "        vertical-align: middle;\n",
       "    }\n",
       "\n",
       "    .dataframe tbody tr th {\n",
       "        vertical-align: top;\n",
       "    }\n",
       "\n",
       "    .dataframe thead th {\n",
       "        text-align: right;\n",
       "    }\n",
       "</style>\n",
       "<table border=\"1\" class=\"dataframe\">\n",
       "  <thead>\n",
       "    <tr style=\"text-align: right;\">\n",
       "      <th></th>\n",
       "      <th>Доходность актива Х</th>\n",
       "      <th>Доходность актива Y</th>\n",
       "    </tr>\n",
       "  </thead>\n",
       "  <tbody>\n",
       "    <tr>\n",
       "      <th>Доходность актива Х</th>\n",
       "      <td>1.000000</td>\n",
       "      <td>0.396721</td>\n",
       "    </tr>\n",
       "    <tr>\n",
       "      <th>Доходность актива Y</th>\n",
       "      <td>0.396721</td>\n",
       "      <td>1.000000</td>\n",
       "    </tr>\n",
       "  </tbody>\n",
       "</table>\n",
       "</div>"
      ],
      "text/plain": [
       "                     Доходность актива Х  Доходность актива Y\n",
       "Доходность актива Х             1.000000             0.396721\n",
       "Доходность актива Y             0.396721             1.000000"
      ]
     },
     "execution_count": 4,
     "metadata": {},
     "output_type": "execute_result"
    }
   ],
   "source": [
    "cor_x_y=tab.loc[:, [\"Доходность актива Х\",\"Доходность актива Y\"]].corr()\n",
    "cor_x_y"
   ]
  },
  {
   "cell_type": "markdown",
   "metadata": {},
   "source": [
    "Коэф. корреляции- 0.4\n",
    "0.4>0\n",
    "Следовательно, замечена неявная прямая зависимость "
   ]
  },
  {
   "cell_type": "markdown",
   "metadata": {
    "colab_type": "text",
    "id": "Rc3tqLLnsFIw"
   },
   "source": [
    "#### 2. Дана корелляционная  таблица случайного вектора (X,Y). Вычислите ковариацию cov(X,Y)."
   ]
  },
  {
   "cell_type": "code",
   "execution_count": 37,
   "metadata": {},
   "outputs": [],
   "source": [
    "tabledata = [[-2, 0.1, 0, 0.2],\n",
    "         [0, 0.05, 0.2, 0],\n",
    "         [1, 0, 0.2, 0.05],\n",
    "         [7, 0.1, 0, 0.1]]"
   ]
  },
  {
   "cell_type": "code",
   "execution_count": 129,
   "metadata": {
    "scrolled": true
   },
   "outputs": [
    {
     "data": {
      "text/html": [
       "<div>\n",
       "<style scoped>\n",
       "    .dataframe tbody tr th:only-of-type {\n",
       "        vertical-align: middle;\n",
       "    }\n",
       "\n",
       "    .dataframe tbody tr th {\n",
       "        vertical-align: top;\n",
       "    }\n",
       "\n",
       "    .dataframe thead th {\n",
       "        text-align: right;\n",
       "    }\n",
       "</style>\n",
       "<table border=\"1\" class=\"dataframe\">\n",
       "  <thead>\n",
       "    <tr style=\"text-align: right;\">\n",
       "      <th></th>\n",
       "      <th>X/Y</th>\n",
       "      <th>-6</th>\n",
       "      <th>0</th>\n",
       "      <th>3</th>\n",
       "    </tr>\n",
       "  </thead>\n",
       "  <tbody>\n",
       "    <tr>\n",
       "      <th>0</th>\n",
       "      <td>-2</td>\n",
       "      <td>0.10</td>\n",
       "      <td>0.0</td>\n",
       "      <td>0.20</td>\n",
       "    </tr>\n",
       "    <tr>\n",
       "      <th>1</th>\n",
       "      <td>0</td>\n",
       "      <td>0.05</td>\n",
       "      <td>0.2</td>\n",
       "      <td>0.00</td>\n",
       "    </tr>\n",
       "    <tr>\n",
       "      <th>2</th>\n",
       "      <td>1</td>\n",
       "      <td>0.00</td>\n",
       "      <td>0.2</td>\n",
       "      <td>0.05</td>\n",
       "    </tr>\n",
       "    <tr>\n",
       "      <th>3</th>\n",
       "      <td>7</td>\n",
       "      <td>0.10</td>\n",
       "      <td>0.0</td>\n",
       "      <td>0.10</td>\n",
       "    </tr>\n",
       "  </tbody>\n",
       "</table>\n",
       "</div>"
      ],
      "text/plain": [
       "   X/Y    -6    0     3\n",
       "0   -2  0.10  0.0  0.20\n",
       "1    0  0.05  0.2  0.00\n",
       "2    1  0.00  0.2  0.05\n",
       "3    7  0.10  0.0  0.10"
      ]
     },
     "execution_count": 129,
     "metadata": {},
     "output_type": "execute_result"
    }
   ],
   "source": [
    "tabq=pd.DataFrame(tabledata, columns=[\"X/Y\",\"-6\", \" 0\", \"3\"])\n",
    "tabq"
   ]
  },
  {
   "cell_type": "code",
   "execution_count": 159,
   "metadata": {},
   "outputs": [],
   "source": [
    "#1. Определим ряд распределения случайной величины X\n",
    "x=tabq[['-6',' 0','3']].sum(axis=1)\n",
    "#2. Определим мат.ожидание\n",
    "Mx=sum([-2,0,1,7]*x)\n",
    "#3. Определим ряд распределения случайной величины Y\n",
    "y=tabq[['-6',' 0','3']].sum(axis=0)\n",
    "#4. Определим мат.ожидание\n",
    "My=sum([-6,0,3]*y)"
   ]
  },
  {
   "cell_type": "code",
   "execution_count": 160,
   "metadata": {},
   "outputs": [
    {
     "data": {
      "text/plain": [
       "-0.6"
      ]
     },
     "execution_count": 160,
     "metadata": {},
     "output_type": "execute_result"
    }
   ],
   "source": [
    "#5. Определим произведений\n",
    "t1=[-2,0,1,7]*tabq['-6']*-6;\n",
    "t2=[-2,0,1,7]*tabq[' 0']*0;\n",
    "t3=[-2,0,1,7]*tabq[' 0']*3;\n",
    "Mxy=t1+t2+t3;\n",
    "Mxy=Mxy.mean()\n",
    "Mxy"
   ]
  },
  {
   "cell_type": "code",
   "execution_count": 161,
   "metadata": {},
   "outputs": [
    {
     "data": {
      "text/plain": [
       "-0.12749999999999978"
      ]
     },
     "execution_count": 161,
     "metadata": {},
     "output_type": "execute_result"
    }
   ],
   "source": [
    "cov_xy=Mxy-Mx*My\n",
    "cov_xy"
   ]
  },
  {
   "cell_type": "markdown",
   "metadata": {
    "colab_type": "text",
    "id": "Rc3tqLLnsFIw"
   },
   "source": [
    "#### 3. Определите коэффициент корреляции из № 2."
   ]
  },
  {
   "cell_type": "code",
   "execution_count": 168,
   "metadata": {},
   "outputs": [
    {
     "data": {
      "text/plain": [
       "-0.0028758314796089018"
      ]
     },
     "execution_count": 168,
     "metadata": {},
     "output_type": "execute_result"
    }
   ],
   "source": [
    "#Определяем дисперсию\n",
    "Dx=np.sum((np.asarray([-2,0,1,7])-Mx)**2)\n",
    "Dy=np.sum((np.asarray([-6,0,3])-My)**2)\n",
    "#Определяем кв отклонение\n",
    "s1=np.sqrt(Dx)\n",
    "s2=np.sqrt(Dy)\n",
    "#опредлеяем коф корреляции\n",
    "cor=cov_xy/s1/s2\n",
    "cor"
   ]
  },
  {
   "cell_type": "markdown",
   "metadata": {
    "colab_type": "text",
    "id": "Rc3tqLLnsFIw"
   },
   "source": [
    "#### 4. Приведите примеры положительной корелляции из практики (5 примеров)."
   ]
  },
  {
   "cell_type": "markdown",
   "metadata": {},
   "source": [
    "1. Время зарядки и заряд батареи\n",
    "2. Время работы и заработная плата\n",
    "3. Пробег автомоблия и его расход \n",
    "4. Количество университетов и уровень жизни в городе\n",
    "5. Количество людей в метро и вероятность заражения вирусной инфекцией "
   ]
  },
  {
   "cell_type": "markdown",
   "metadata": {
    "colab_type": "text",
    "id": "Rc3tqLLnsFIw"
   },
   "source": [
    "#### 5. Приведите примеры отрицательной корелляции  из практики (5 примеров)."
   ]
  },
  {
   "cell_type": "code",
   "execution_count": null,
   "metadata": {},
   "outputs": [],
   "source": [
    "1. Заряд батареи и время работы телефона\n",
    "2. Количество детей в семье и обеспеченность каждого члена этой семьи \n",
    "3. Средний уровень жизни и количество массовых беспорядков\n",
    "4. Средняя температура воздуха и  объем пресной воды в государстве \n",
    "5. Объем работы и качество исполнения"
   ]
  }
 ],
 "metadata": {
  "colab": {
   "name": "Матстат - Урок 1.ipynb",
   "provenance": []
  },
  "kernelspec": {
   "display_name": "Python 3",
   "language": "python",
   "name": "python3"
  },
  "language_info": {
   "codemirror_mode": {
    "name": "ipython",
    "version": 3
   },
   "file_extension": ".py",
   "mimetype": "text/x-python",
   "name": "python",
   "nbconvert_exporter": "python",
   "pygments_lexer": "ipython3",
   "version": "3.8.3"
  }
 },
 "nbformat": 4,
 "nbformat_minor": 1
}
